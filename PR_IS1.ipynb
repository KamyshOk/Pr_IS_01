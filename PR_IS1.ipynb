{
  "nbformat": 4,
  "nbformat_minor": 0,
  "metadata": {
    "colab": {
      "name": "PR_IS1.ipynb",
      "provenance": [],
      "collapsed_sections": [],
      "authorship_tag": "ABX9TyPQM1vD/GIay3lUhm5X4DOF",
      "include_colab_link": true
    },
    "kernelspec": {
      "name": "python3",
      "display_name": "Python 3"
    }
  },
  "cells": [
    {
      "cell_type": "markdown",
      "metadata": {
        "id": "view-in-github",
        "colab_type": "text"
      },
      "source": [
        "<a href=\"https://colab.research.google.com/github/KamyshOk/Pr_IS_01/blob/main/PR_IS1.ipynb\" target=\"_parent\"><img src=\"https://colab.research.google.com/assets/colab-badge.svg\" alt=\"Open In Colab\"/></a>"
      ]
    },
    {
      "cell_type": "code",
      "metadata": {
        "id": "LQRhscoI9jYi"
      },
      "source": [
        "import pandas as pd\r\n",
        "import numpy as np\r\n",
        "from IPython.display import display"
      ],
      "execution_count": 7,
      "outputs": []
    },
    {
      "cell_type": "code",
      "metadata": {
        "colab": {
          "base_uri": "https://localhost:8080/",
          "height": 142
        },
        "id": "xdDZrIfPAtID",
        "outputId": "657c71f3-4ee3-4ab9-c18b-0a8eaf48b95f"
      },
      "source": [
        "data = pd.read_csv(\"https://archive.ics.uci.edu/ml/machine-learning-databases/glass/glass.data\", header=None)\r\n",
        "data.head(3)"
      ],
      "execution_count": 8,
      "outputs": [
        {
          "output_type": "execute_result",
          "data": {
            "text/html": [
              "<div>\n",
              "<style scoped>\n",
              "    .dataframe tbody tr th:only-of-type {\n",
              "        vertical-align: middle;\n",
              "    }\n",
              "\n",
              "    .dataframe tbody tr th {\n",
              "        vertical-align: top;\n",
              "    }\n",
              "\n",
              "    .dataframe thead th {\n",
              "        text-align: right;\n",
              "    }\n",
              "</style>\n",
              "<table border=\"1\" class=\"dataframe\">\n",
              "  <thead>\n",
              "    <tr style=\"text-align: right;\">\n",
              "      <th></th>\n",
              "      <th>0</th>\n",
              "      <th>1</th>\n",
              "      <th>2</th>\n",
              "      <th>3</th>\n",
              "      <th>4</th>\n",
              "      <th>5</th>\n",
              "      <th>6</th>\n",
              "      <th>7</th>\n",
              "      <th>8</th>\n",
              "      <th>9</th>\n",
              "      <th>10</th>\n",
              "    </tr>\n",
              "  </thead>\n",
              "  <tbody>\n",
              "    <tr>\n",
              "      <th>0</th>\n",
              "      <td>1</td>\n",
              "      <td>1.52101</td>\n",
              "      <td>13.64</td>\n",
              "      <td>4.49</td>\n",
              "      <td>1.10</td>\n",
              "      <td>71.78</td>\n",
              "      <td>0.06</td>\n",
              "      <td>8.75</td>\n",
              "      <td>0.0</td>\n",
              "      <td>0.0</td>\n",
              "      <td>1</td>\n",
              "    </tr>\n",
              "    <tr>\n",
              "      <th>1</th>\n",
              "      <td>2</td>\n",
              "      <td>1.51761</td>\n",
              "      <td>13.89</td>\n",
              "      <td>3.60</td>\n",
              "      <td>1.36</td>\n",
              "      <td>72.73</td>\n",
              "      <td>0.48</td>\n",
              "      <td>7.83</td>\n",
              "      <td>0.0</td>\n",
              "      <td>0.0</td>\n",
              "      <td>1</td>\n",
              "    </tr>\n",
              "    <tr>\n",
              "      <th>2</th>\n",
              "      <td>3</td>\n",
              "      <td>1.51618</td>\n",
              "      <td>13.53</td>\n",
              "      <td>3.55</td>\n",
              "      <td>1.54</td>\n",
              "      <td>72.99</td>\n",
              "      <td>0.39</td>\n",
              "      <td>7.78</td>\n",
              "      <td>0.0</td>\n",
              "      <td>0.0</td>\n",
              "      <td>1</td>\n",
              "    </tr>\n",
              "  </tbody>\n",
              "</table>\n",
              "</div>"
            ],
            "text/plain": [
              "   0        1      2     3     4      5     6     7    8    9   10\n",
              "0   1  1.52101  13.64  4.49  1.10  71.78  0.06  8.75  0.0  0.0   1\n",
              "1   2  1.51761  13.89  3.60  1.36  72.73  0.48  7.83  0.0  0.0   1\n",
              "2   3  1.51618  13.53  3.55  1.54  72.99  0.39  7.78  0.0  0.0   1"
            ]
          },
          "metadata": {
            "tags": []
          },
          "execution_count": 8
        }
      ]
    },
    {
      "cell_type": "code",
      "metadata": {
        "colab": {
          "base_uri": "https://localhost:8080/",
          "height": 142
        },
        "id": "JV61DWphB_wp",
        "outputId": "993259a0-c741-4f3a-deca-060d61b641f0"
      },
      "source": [
        "names = [\"ID\",\"RI\",\"Na\",\"Mg\",\"Al\",\"Si\",\"K\",\"Ca\",\"Ba\",\"Fe\", \"Class\"]\r\n",
        "data.columns = names\r\n",
        "data = data.drop(columns=['ID'])\r\n",
        "data.head(3)"
      ],
      "execution_count": 9,
      "outputs": [
        {
          "output_type": "execute_result",
          "data": {
            "text/html": [
              "<div>\n",
              "<style scoped>\n",
              "    .dataframe tbody tr th:only-of-type {\n",
              "        vertical-align: middle;\n",
              "    }\n",
              "\n",
              "    .dataframe tbody tr th {\n",
              "        vertical-align: top;\n",
              "    }\n",
              "\n",
              "    .dataframe thead th {\n",
              "        text-align: right;\n",
              "    }\n",
              "</style>\n",
              "<table border=\"1\" class=\"dataframe\">\n",
              "  <thead>\n",
              "    <tr style=\"text-align: right;\">\n",
              "      <th></th>\n",
              "      <th>RI</th>\n",
              "      <th>Na</th>\n",
              "      <th>Mg</th>\n",
              "      <th>Al</th>\n",
              "      <th>Si</th>\n",
              "      <th>K</th>\n",
              "      <th>Ca</th>\n",
              "      <th>Ba</th>\n",
              "      <th>Fe</th>\n",
              "      <th>Class</th>\n",
              "    </tr>\n",
              "  </thead>\n",
              "  <tbody>\n",
              "    <tr>\n",
              "      <th>0</th>\n",
              "      <td>1.52101</td>\n",
              "      <td>13.64</td>\n",
              "      <td>4.49</td>\n",
              "      <td>1.10</td>\n",
              "      <td>71.78</td>\n",
              "      <td>0.06</td>\n",
              "      <td>8.75</td>\n",
              "      <td>0.0</td>\n",
              "      <td>0.0</td>\n",
              "      <td>1</td>\n",
              "    </tr>\n",
              "    <tr>\n",
              "      <th>1</th>\n",
              "      <td>1.51761</td>\n",
              "      <td>13.89</td>\n",
              "      <td>3.60</td>\n",
              "      <td>1.36</td>\n",
              "      <td>72.73</td>\n",
              "      <td>0.48</td>\n",
              "      <td>7.83</td>\n",
              "      <td>0.0</td>\n",
              "      <td>0.0</td>\n",
              "      <td>1</td>\n",
              "    </tr>\n",
              "    <tr>\n",
              "      <th>2</th>\n",
              "      <td>1.51618</td>\n",
              "      <td>13.53</td>\n",
              "      <td>3.55</td>\n",
              "      <td>1.54</td>\n",
              "      <td>72.99</td>\n",
              "      <td>0.39</td>\n",
              "      <td>7.78</td>\n",
              "      <td>0.0</td>\n",
              "      <td>0.0</td>\n",
              "      <td>1</td>\n",
              "    </tr>\n",
              "  </tbody>\n",
              "</table>\n",
              "</div>"
            ],
            "text/plain": [
              "        RI     Na    Mg    Al     Si     K    Ca   Ba   Fe  Class\n",
              "0  1.52101  13.64  4.49  1.10  71.78  0.06  8.75  0.0  0.0      1\n",
              "1  1.51761  13.89  3.60  1.36  72.73  0.48  7.83  0.0  0.0      1\n",
              "2  1.51618  13.53  3.55  1.54  72.99  0.39  7.78  0.0  0.0      1"
            ]
          },
          "metadata": {
            "tags": []
          },
          "execution_count": 9
        }
      ]
    },
    {
      "cell_type": "code",
      "metadata": {
        "colab": {
          "base_uri": "https://localhost:8080/"
        },
        "id": "WxHpjElFDsCU",
        "outputId": "a8e75698-2d01-41ce-bf26-de2b9de5b9cf"
      },
      "source": [
        "data['Class'].replace({1:\"building_float\",\r\n",
        "                       2:\"building_non_float\",\r\n",
        "                       3:\"vehicle_float\",\r\n",
        "                       4:\"vehicle_non_float\",\r\n",
        "                       5:\"containers\",\r\n",
        "                       6:\"tableware\",\r\n",
        "                       7:\"headlamps\"}, inplace=True)\r\n",
        "data['Class'].value_counts()"
      ],
      "execution_count": 10,
      "outputs": [
        {
          "output_type": "execute_result",
          "data": {
            "text/plain": [
              "building_non_float    76\n",
              "building_float        70\n",
              "headlamps             29\n",
              "vehicle_float         17\n",
              "containers            13\n",
              "tableware              9\n",
              "Name: Class, dtype: int64"
            ]
          },
          "metadata": {
            "tags": []
          },
          "execution_count": 10
        }
      ]
    },
    {
      "cell_type": "code",
      "metadata": {
        "colab": {
          "base_uri": "https://localhost:8080/"
        },
        "id": "CckuM575FlAa",
        "outputId": "3dc72a37-c0fe-409e-ac21-c5471fccd5c0"
      },
      "source": [
        "for col in data.columns:\r\n",
        "   fr = np.random.randint(5,100)/100\r\n",
        "   data.loc[data.sample(frac=fr).index, col] = np.nan\r\n",
        "data.info()"
      ],
      "execution_count": 14,
      "outputs": [
        {
          "output_type": "stream",
          "text": [
            "<class 'pandas.core.frame.DataFrame'>\n",
            "RangeIndex: 214 entries, 0 to 213\n",
            "Data columns (total 10 columns):\n",
            " #   Column  Non-Null Count  Dtype  \n",
            "---  ------  --------------  -----  \n",
            " 0   RI      14 non-null     float64\n",
            " 1   Na      1 non-null      float64\n",
            " 2   Mg      55 non-null     float64\n",
            " 3   Al      2 non-null      float64\n",
            " 4   Si      10 non-null     float64\n",
            " 5   K       5 non-null      float64\n",
            " 6   Ca      29 non-null     float64\n",
            " 7   Ba      46 non-null     float64\n",
            " 8   Fe      64 non-null     float64\n",
            " 9   Class   3 non-null      object \n",
            "dtypes: float64(9), object(1)\n",
            "memory usage: 16.8+ KB\n"
          ],
          "name": "stdout"
        }
      ]
    },
    {
      "cell_type": "code",
      "metadata": {
        "colab": {
          "base_uri": "https://localhost:8080/"
        },
        "id": "72QbHFlNG_Gw",
        "outputId": "0ed57210-ee6e-4af6-a039-161a17d40fd8"
      },
      "source": [
        "data.info()"
      ],
      "execution_count": 15,
      "outputs": [
        {
          "output_type": "stream",
          "text": [
            "<class 'pandas.core.frame.DataFrame'>\n",
            "RangeIndex: 214 entries, 0 to 213\n",
            "Data columns (total 10 columns):\n",
            " #   Column  Non-Null Count  Dtype  \n",
            "---  ------  --------------  -----  \n",
            " 0   RI      14 non-null     float64\n",
            " 1   Na      1 non-null      float64\n",
            " 2   Mg      55 non-null     float64\n",
            " 3   Al      2 non-null      float64\n",
            " 4   Si      10 non-null     float64\n",
            " 5   K       5 non-null      float64\n",
            " 6   Ca      29 non-null     float64\n",
            " 7   Ba      46 non-null     float64\n",
            " 8   Fe      64 non-null     float64\n",
            " 9   Class   3 non-null      object \n",
            "dtypes: float64(9), object(1)\n",
            "memory usage: 16.8+ KB\n"
          ],
          "name": "stdout"
        }
      ]
    },
    {
      "cell_type": "code",
      "metadata": {
        "colab": {
          "base_uri": "https://localhost:8080/",
          "height": 297
        },
        "id": "fjsZnzj4HZbx",
        "outputId": "a54a0856-78ba-4fe0-bab0-ebad61325ec0"
      },
      "source": [
        "data.describe()"
      ],
      "execution_count": 16,
      "outputs": [
        {
          "output_type": "execute_result",
          "data": {
            "text/html": [
              "<div>\n",
              "<style scoped>\n",
              "    .dataframe tbody tr th:only-of-type {\n",
              "        vertical-align: middle;\n",
              "    }\n",
              "\n",
              "    .dataframe tbody tr th {\n",
              "        vertical-align: top;\n",
              "    }\n",
              "\n",
              "    .dataframe thead th {\n",
              "        text-align: right;\n",
              "    }\n",
              "</style>\n",
              "<table border=\"1\" class=\"dataframe\">\n",
              "  <thead>\n",
              "    <tr style=\"text-align: right;\">\n",
              "      <th></th>\n",
              "      <th>RI</th>\n",
              "      <th>Na</th>\n",
              "      <th>Mg</th>\n",
              "      <th>Al</th>\n",
              "      <th>Si</th>\n",
              "      <th>K</th>\n",
              "      <th>Ca</th>\n",
              "      <th>Ba</th>\n",
              "      <th>Fe</th>\n",
              "    </tr>\n",
              "  </thead>\n",
              "  <tbody>\n",
              "    <tr>\n",
              "      <th>count</th>\n",
              "      <td>14.000000</td>\n",
              "      <td>1.00</td>\n",
              "      <td>55.000000</td>\n",
              "      <td>2.000000</td>\n",
              "      <td>10.000000</td>\n",
              "      <td>5.000000</td>\n",
              "      <td>29.000000</td>\n",
              "      <td>46.000000</td>\n",
              "      <td>64.000000</td>\n",
              "    </tr>\n",
              "    <tr>\n",
              "      <th>mean</th>\n",
              "      <td>1.518816</td>\n",
              "      <td>13.44</td>\n",
              "      <td>2.866364</td>\n",
              "      <td>1.825000</td>\n",
              "      <td>72.814000</td>\n",
              "      <td>0.536000</td>\n",
              "      <td>8.693793</td>\n",
              "      <td>0.175000</td>\n",
              "      <td>0.056563</td>\n",
              "    </tr>\n",
              "    <tr>\n",
              "      <th>std</th>\n",
              "      <td>0.003277</td>\n",
              "      <td>NaN</td>\n",
              "      <td>1.374416</td>\n",
              "      <td>0.841457</td>\n",
              "      <td>0.525657</td>\n",
              "      <td>0.172424</td>\n",
              "      <td>1.005497</td>\n",
              "      <td>0.381283</td>\n",
              "      <td>0.107145</td>\n",
              "    </tr>\n",
              "    <tr>\n",
              "      <th>min</th>\n",
              "      <td>1.515880</td>\n",
              "      <td>13.44</td>\n",
              "      <td>0.000000</td>\n",
              "      <td>1.230000</td>\n",
              "      <td>71.760000</td>\n",
              "      <td>0.230000</td>\n",
              "      <td>6.470000</td>\n",
              "      <td>0.000000</td>\n",
              "      <td>0.000000</td>\n",
              "    </tr>\n",
              "    <tr>\n",
              "      <th>25%</th>\n",
              "      <td>1.517115</td>\n",
              "      <td>13.44</td>\n",
              "      <td>3.135000</td>\n",
              "      <td>1.527500</td>\n",
              "      <td>72.532500</td>\n",
              "      <td>0.580000</td>\n",
              "      <td>8.150000</td>\n",
              "      <td>0.000000</td>\n",
              "      <td>0.000000</td>\n",
              "    </tr>\n",
              "    <tr>\n",
              "      <th>50%</th>\n",
              "      <td>1.517505</td>\n",
              "      <td>13.44</td>\n",
              "      <td>3.520000</td>\n",
              "      <td>1.825000</td>\n",
              "      <td>72.845000</td>\n",
              "      <td>0.610000</td>\n",
              "      <td>8.490000</td>\n",
              "      <td>0.000000</td>\n",
              "      <td>0.000000</td>\n",
              "    </tr>\n",
              "    <tr>\n",
              "      <th>75%</th>\n",
              "      <td>1.518477</td>\n",
              "      <td>13.44</td>\n",
              "      <td>3.625000</td>\n",
              "      <td>2.122500</td>\n",
              "      <td>73.252500</td>\n",
              "      <td>0.620000</td>\n",
              "      <td>8.930000</td>\n",
              "      <td>0.097500</td>\n",
              "      <td>0.092500</td>\n",
              "    </tr>\n",
              "    <tr>\n",
              "      <th>max</th>\n",
              "      <td>1.527390</td>\n",
              "      <td>13.44</td>\n",
              "      <td>3.970000</td>\n",
              "      <td>2.420000</td>\n",
              "      <td>73.440000</td>\n",
              "      <td>0.640000</td>\n",
              "      <td>11.640000</td>\n",
              "      <td>1.590000</td>\n",
              "      <td>0.510000</td>\n",
              "    </tr>\n",
              "  </tbody>\n",
              "</table>\n",
              "</div>"
            ],
            "text/plain": [
              "              RI     Na         Mg  ...         Ca         Ba         Fe\n",
              "count  14.000000   1.00  55.000000  ...  29.000000  46.000000  64.000000\n",
              "mean    1.518816  13.44   2.866364  ...   8.693793   0.175000   0.056563\n",
              "std     0.003277    NaN   1.374416  ...   1.005497   0.381283   0.107145\n",
              "min     1.515880  13.44   0.000000  ...   6.470000   0.000000   0.000000\n",
              "25%     1.517115  13.44   3.135000  ...   8.150000   0.000000   0.000000\n",
              "50%     1.517505  13.44   3.520000  ...   8.490000   0.000000   0.000000\n",
              "75%     1.518477  13.44   3.625000  ...   8.930000   0.097500   0.092500\n",
              "max     1.527390  13.44   3.970000  ...  11.640000   1.590000   0.510000\n",
              "\n",
              "[8 rows x 9 columns]"
            ]
          },
          "metadata": {
            "tags": []
          },
          "execution_count": 16
        }
      ]
    },
    {
      "cell_type": "code",
      "metadata": {
        "colab": {
          "base_uri": "https://localhost:8080/",
          "height": 187
        },
        "id": "E3g5BmXJH_eh",
        "outputId": "d3c950d4-81c6-4d28-bb4d-88a14e3c9182"
      },
      "source": [
        "display(data[\"Class\"].describe())\r\n",
        "display(print(\"=========================\"))\r\n",
        "display(data['Class'].value_counts())"
      ],
      "execution_count": 17,
      "outputs": [
        {
          "output_type": "display_data",
          "data": {
            "text/plain": [
              "count             3\n",
              "unique            2\n",
              "top       headlamps\n",
              "freq              2\n",
              "Name: Class, dtype: object"
            ]
          },
          "metadata": {
            "tags": []
          }
        },
        {
          "output_type": "stream",
          "text": [
            "=========================\n"
          ],
          "name": "stdout"
        },
        {
          "output_type": "display_data",
          "data": {
            "text/plain": [
              "None"
            ]
          },
          "metadata": {
            "tags": []
          }
        },
        {
          "output_type": "display_data",
          "data": {
            "text/plain": [
              "headlamps             2\n",
              "building_non_float    1\n",
              "Name: Class, dtype: int64"
            ]
          },
          "metadata": {
            "tags": []
          }
        }
      ]
    }
  ]
}