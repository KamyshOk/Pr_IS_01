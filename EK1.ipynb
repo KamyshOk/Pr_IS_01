{
  "nbformat": 4,
  "nbformat_minor": 0,
  "metadata": {
    "colab": {
      "name": "EK1",
      "provenance": [],
      "collapsed_sections": [],
      "authorship_tag": "ABX9TyOydYxXKU1HJGVG14w2URjx",
      "include_colab_link": true
    },
    "kernelspec": {
      "name": "python3",
      "display_name": "Python 3"
    }
  },
  "cells": [
    {
      "cell_type": "markdown",
      "metadata": {
        "id": "view-in-github",
        "colab_type": "text"
      },
      "source": [
        "<a href=\"https://colab.research.google.com/github/KamyshOk/Pr_IS_01/blob/main/EK1.ipynb\" target=\"_parent\"><img src=\"https://colab.research.google.com/assets/colab-badge.svg\" alt=\"Open In Colab\"/></a>"
      ]
    },
    {
      "cell_type": "code",
      "metadata": {
        "id": "E34KHCl5xPcI"
      },
      "source": [
        "Камышников Никита Максимович \r\n",
        "КИ19-21б \r\n"
      ],
      "execution_count": null,
      "outputs": []
    },
    {
      "cell_type": "code",
      "metadata": {
        "colab": {
          "base_uri": "https://localhost:8080/"
        },
        "id": "oBzM1hu1xZ3Q",
        "outputId": "7f5aabac-0b8f-4d63-ee34-460fd5123af9"
      },
      "source": [
        "print(\"Привет мир!\")"
      ],
      "execution_count": 1,
      "outputs": [
        {
          "output_type": "stream",
          "text": [
            "Привет мир!\n"
          ],
          "name": "stdout"
        }
      ]
    }
  ]
}